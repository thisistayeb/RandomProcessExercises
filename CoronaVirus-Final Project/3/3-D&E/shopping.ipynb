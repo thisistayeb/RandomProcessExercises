{
 "cells": [
  {
   "cell_type": "code",
   "execution_count": 1,
   "metadata": {},
   "outputs": [],
   "source": [
    "NAME = 'Shopping-Centers'"
   ]
  },
  {
   "cell_type": "markdown",
   "metadata": {},
   "source": [
    "_________________"
   ]
  },
  {
   "cell_type": "code",
   "execution_count": 2,
   "metadata": {},
   "outputs": [],
   "source": [
    "import numpy as np\n",
    "import random\n",
    "from math import sqrt, ceil\n",
    "import nepzeb"
   ]
  },
  {
   "cell_type": "code",
   "execution_count": 3,
   "metadata": {},
   "outputs": [],
   "source": [
    "n = 1000\n",
    "\n",
    "mu = 4 #rate\n",
    "\n",
    "t = 0\n",
    "\n",
    "ni = n//2\n",
    "\n",
    "T = 60\n",
    "\n",
    "ar = sorted(np.random.exponential(1/mu,10000))[2000]\n",
    "br = sorted(np.random.exponential(1/mu,10000))[8000]\n",
    "\n",
    "pr = 0.9\n",
    "\n",
    "\n",
    "l = 1000\n",
    "c = 100\n",
    "\n",
    "ns = ni\n",
    "nh = n - ns\n",
    "nd = 0\n",
    "nu = 0\n",
    "nr = 0\n",
    "nu = 0\n",
    "\n"
   ]
  },
  {
   "cell_type": "code",
   "execution_count": 4,
   "metadata": {},
   "outputs": [
    {
     "data": {
      "text/plain": [
       "(0.05502220677099547, 0.406095778349916)"
      ]
     },
     "execution_count": 4,
     "metadata": {},
     "output_type": "execute_result"
    }
   ],
   "source": [
    "ar,br"
   ]
  },
  {
   "cell_type": "markdown",
   "metadata": {},
   "source": [
    "________"
   ]
  },
  {
   "cell_type": "markdown",
   "metadata": {},
   "source": [
    "<div dir=rtl >\n",
    "    تعداد مرکز خرید‌ها را مشخص می‌کنیم، برای هر مرکز خرید اندازه هر ضلع مربع آن به صورت تصادفی با کورلیشن به اندازه ماتریس اصلی تولید می‌کنیم.\n",
    "    </div>"
   ]
  },
  {
   "cell_type": "code",
   "execution_count": 5,
   "metadata": {},
   "outputs": [],
   "source": [
    "#measure of shopping center\n",
    "\n",
    "number_of_shopping_center = 1\n",
    "\n",
    "lsc = [random.randint(l//100, l//10) for i in range(number_of_shopping_center)]\n",
    "\n",
    "ug = 0.9\n",
    "ag = 1\n",
    "bg = 20 * ag\n"
   ]
  },
  {
   "cell_type": "code",
   "execution_count": 6,
   "metadata": {},
   "outputs": [
    {
     "data": {
      "text/plain": [
       "[67]"
      ]
     },
     "execution_count": 6,
     "metadata": {},
     "output_type": "execute_result"
    }
   ],
   "source": [
    "lsc"
   ]
  },
  {
   "cell_type": "markdown",
   "metadata": {},
   "source": [
    "__________"
   ]
  },
  {
   "cell_type": "markdown",
   "metadata": {},
   "source": [
    "<div dir=rtl>\n",
    "    هر کدام از افراد را به تصادف در نقطه‌ای ثابت در ماتریس جا می‌دهیم.\n",
    "    موقعیت هر کس را به صورت\n",
    "    ((x,y),[in the which shopping center / main matrix])\n",
    "    تعریف می‌کنیم، در شروع همه در ماتریس اصلی حضور دارند.\n",
    "   \n",
    "</div>"
   ]
  },
  {
   "cell_type": "code",
   "execution_count": 7,
   "metadata": {},
   "outputs": [],
   "source": [
    "def random_per():\n",
    "    N = []\n",
    "    while len(N) < n:\n",
    "        zz = (random.randint(1,l), random.randint(1,l))\n",
    "        if not(zz) in N:\n",
    "            N.append((zz,0))\n",
    "    return(N)\n",
    "N = random_per()"
   ]
  },
  {
   "cell_type": "code",
   "execution_count": 8,
   "metadata": {},
   "outputs": [
    {
     "data": {
      "text/plain": [
       "[((435, 625), 0),\n",
       " ((18, 447), 0),\n",
       " ((497, 252), 0),\n",
       " ((322, 334), 0),\n",
       " ((599, 630), 0)]"
      ]
     },
     "execution_count": 8,
     "metadata": {},
     "output_type": "execute_result"
    }
   ],
   "source": [
    "N[:5]"
   ]
  },
  {
   "cell_type": "markdown",
   "metadata": {},
   "source": [
    "_______________"
   ]
  },
  {
   "cell_type": "markdown",
   "metadata": {},
   "source": [
    "<div dir=rtl>\n",
    "    توابع زیر توابع معرفی شده در مثال سه هستند که به صورت عمومی برای نقطه داده شده و لیستی که به آن داده می‌شود با کسانی که فاصله اقلیدسی کمتر مساوی c\n",
    "    دارند، نرخ را محاسبه می‌کند.\n",
    "    لازم به ذکر است نرم‌های دیگر مانند فاصله منهتن هم مناسب مدل هستند.\n",
    "</div>"
   ]
  },
  {
   "cell_type": "code",
   "execution_count": 9,
   "metadata": {},
   "outputs": [],
   "source": [
    "def f_1(node,X):\n",
    "    x = node[0][0]\n",
    "    y = node[0][1]\n",
    "    u = 0\n",
    "    \n",
    "    for each_cell in range(len(X)):\n",
    "        (a,b) = X[each_cell]\n",
    "        dis = sqrt((x - a)** 2 + (y - b)**2)\n",
    "        if  dis <= c:\n",
    "            #f(i,j)= mu * \\delta_{d(i,j)} \n",
    "            u += mu\n",
    "\n",
    "    return(u)\n",
    "\n",
    "\n"
   ]
  },
  {
   "cell_type": "code",
   "execution_count": 10,
   "metadata": {},
   "outputs": [],
   "source": [
    "def f_2(node,X):\n",
    "    x = node[0][0]\n",
    "    y = node[0][1]\n",
    "    u = 0\n",
    "    \n",
    "    for each_cell in range(len(X)):\n",
    "        (a,b) = X[each_cell]\n",
    "        dis = sqrt((x - a)** 2 + (y - b)**2)\n",
    "        if  dis <= c:\n",
    "            #f(i,j)= mu /(1 + d(i,j)) * \\delta_{d(i,j)} \n",
    "            u += mu / 1+ dis\n",
    "    return(u)\n"
   ]
  },
  {
   "cell_type": "markdown",
   "metadata": {},
   "source": [
    "________"
   ]
  },
  {
   "cell_type": "markdown",
   "metadata": {},
   "source": [
    "<div dir=rtl>\n",
    "    لیستی خالی برای کسانی که در مرکز خرید هستند ایجاد می‌کنیم که با توجه به زمان پایان خرید به ماتریس اصلی بر گردند.\n",
    "</div>"
   ]
  },
  {
   "cell_type": "code",
   "execution_count": 11,
   "metadata": {},
   "outputs": [],
   "source": [
    "people_in_shopping_center = []"
   ]
  },
  {
   "cell_type": "markdown",
   "metadata": {},
   "source": [
    "<div dir=rtl>\n",
    "    باتوجه به اینکه نرخ به مرکز خرید رفتن\n",
    "    ug\n",
    "    و زمان تصادفی یکنواختی در آنجا می‌مانند تابعی تعریف کردیم که \n",
    "    اول زمان را تخمین می‌زند و اگر زمان از اولین اتفاق‌ها کمتر بود\n",
    "    به تعداد ممکنه افراد را به مرکز‌خرید‌ها جا به جا می‌کند.\n",
    "    \n",
    "</div>"
   ]
  },
  {
   "cell_type": "code",
   "execution_count": 12,
   "metadata": {},
   "outputs": [],
   "source": [
    "def go_shop(t,x,y):\n",
    "    \n",
    "    \n",
    "    go_shop = []\n",
    "    for i in range(n):\n",
    "        if N[i][1] == 0:\n",
    "            go_shop.append(np.random.exponential(ug))\n",
    "        else:\n",
    "            go_shop.append(float('inf'))\n",
    "    \n",
    "    if sorted(go_shop)[0] < min(x,y):\n",
    "        for index in range(len(go_shop)):\n",
    "            if go_shop[index] < min(x,y):\n",
    "                \n",
    "                ss = random.randint(1,number_of_shopping_center)\n",
    "                N[index] = ((N[index][0][0], N[index][0][1]),ss)\n",
    "                \n",
    "                c = np.random.uniform(ag,bg)\n",
    "                people_in_shopping_center.append((t + c , index))\n",
    "\n"
   ]
  },
  {
   "cell_type": "markdown",
   "metadata": {},
   "source": [
    "________________\n"
   ]
  },
  {
   "cell_type": "markdown",
   "metadata": {},
   "source": [
    "<div dir=rtl>\n",
    "    در لحظه\n",
    "    t\n",
    "    اگر زمان حضور افراد در مراکز خرید به پایان رسیده بود، آنها را به ماتریس اولیه بر می‌گرداند.\n",
    "</div>"
   ]
  },
  {
   "cell_type": "code",
   "execution_count": 13,
   "metadata": {},
   "outputs": [],
   "source": [
    "def back_shop():\n",
    "    count = 0\n",
    "    if len(people_in_shopping_center) > 0 :\n",
    "        \n",
    "        if sorted(people_in_shopping_center)[0][0] <= t:\n",
    "\n",
    "            for i in range(len(people_in_shopping_center)):\n",
    "\n",
    "                if people_in_shopping_center[i][0] <= t:\n",
    "                    count += 1\n",
    "\n",
    "                    index = people_in_shopping_center[i][1]\n",
    "                    time = people_in_shopping_center[i][0]\n",
    "\n",
    "                    N[index] = ((N[index][0][0],N[index][0][1]),0)\n",
    "\n",
    "    return(count)\n",
    "                "
   ]
  },
  {
   "cell_type": "markdown",
   "metadata": {},
   "source": [
    "_____"
   ]
  },
  {
   "cell_type": "markdown",
   "metadata": {},
   "source": [
    "\n",
    "<div dir=rtl>\n",
    "    لیستی به تعداد نفرات جامعه ایجاد می‌کنیم که به تصادف  افراد سالم و مریض وضعیت آن‌ها مشخص شده است.\n",
    "</div>\n"
   ]
  },
  {
   "cell_type": "code",
   "execution_count": 14,
   "metadata": {},
   "outputs": [],
   "source": [
    "society = ['sick' for i in range(int(ns))] + ['healthy' for j in range(int(nh))]\n",
    "random.shuffle(society)"
   ]
  },
  {
   "cell_type": "markdown",
   "metadata": {},
   "source": [
    "\n",
    "<div dir=rtl>\n",
    "    لیستی به تعداد افراد جامعه صفر تولید می‌کنیم، اگر فردی یکبار بهبود پیدا کرد خانه متعلق به اون به ۱ تغییر می‌کند.\n",
    "</div>\n"
   ]
  },
  {
   "cell_type": "code",
   "execution_count": 15,
   "metadata": {},
   "outputs": [],
   "source": [
    "recoverd = np.zeros(n)"
   ]
  },
  {
   "cell_type": "markdown",
   "metadata": {},
   "source": [
    "<div dir=rtl>\n",
    "    برای محاسبه افرادی که تا به امروز مریض نشده‌اند، لیستی از اعداد یک درست می‌کنیم، در صورتی که مریض شود به صفر تغییر پیدا می‌کند.\n",
    "</div>"
   ]
  },
  {
   "cell_type": "code",
   "execution_count": 16,
   "metadata": {},
   "outputs": [],
   "source": [
    "health = np.ones(n)"
   ]
  },
  {
   "cell_type": "markdown",
   "metadata": {},
   "source": [
    "\n",
    "<div dir=rtl>\n",
    "    لیست خالی برای نگهداری زمان پایان هر فردی که در نقاهت به سر می‌برد ایجاد می‌کنیم.\n",
    "</div>\n"
   ]
  },
  {
   "cell_type": "code",
   "execution_count": 17,
   "metadata": {},
   "outputs": [],
   "source": [
    "tu_list = []"
   ]
  },
  {
   "cell_type": "markdown",
   "metadata": {},
   "source": [
    "__________"
   ]
  },
  {
   "cell_type": "markdown",
   "metadata": {},
   "source": [
    "<div dir=rtl>\n",
    "    دو تابع اصلی در این شبیه سازی که فرآیند اصلی را انجام می‌دهند\n",
    "    .\n",
    "    با توجه به سوال سه که سیگما را برای افراد مریض و در دوران نقاهت تعریف می‌کند.\n",
    "    این تابع برای هر فرد با توجه به موقعیتی که دارد، یعنی در کدام مرکز خرید و یا کدام محل کار و یا در ماتریس اصلی لیستی از همسایه‌های\n",
    "    مریض و یا در دوران نقاهت می‌دهد\n",
    "</div>"
   ]
  },
  {
   "cell_type": "code",
   "execution_count": 18,
   "metadata": {},
   "outputs": [],
   "source": [
    "def NS(node):\n",
    "\n",
    "    NS = []\n",
    "\n",
    "    #He/She is in the main Matrix\n",
    "    if node[1] == 0:\n",
    "        for person in range(n):\n",
    "            if society[person] == 'sick' and (N[person][1] == 0):\n",
    "                NS.append(N[person][0])\n",
    "                \n",
    "\n",
    "        \n",
    "    #He/She is in the shopping Centers\n",
    "    else:\n",
    "        which = node[1]\n",
    "        for person in range(n):\n",
    "            if society[person] == 'sick':\n",
    "                if N[person][1] == which:\n",
    "                    NS.append((np.random.randint(1,lsc[which-1]),np.random.randint(1,lsc[which-1])))\n",
    "    \n",
    "                              \n",
    "    return(list(NS))\n"
   ]
  },
  {
   "cell_type": "code",
   "execution_count": 19,
   "metadata": {},
   "outputs": [],
   "source": [
    "def NS_NU():\n",
    "    \n",
    "    NS = []\n",
    "    #He/She is in the main Matrix\n",
    "    if node[1] == 0:\n",
    "        for person in range(n):\n",
    "            if society[person] == 'sick' and (N[person][1] == 0):\n",
    "                NS.append(N[person][0])\n",
    "                  \n",
    "    #He/She is in the shopping Centers\n",
    "    else:\n",
    "        which = node[1]\n",
    "        for person in range(n):\n",
    "            if society[person] == 'sick':\n",
    "                if N[person][1] == which:\n",
    "                    NS.append((np.random.randint(1,lsc[which-1]),np.random.randint(1,lsc[which-1])))\n",
    "    \n",
    "    NU = []\n",
    "    \n",
    "    \n",
    "    wh = node[1]\n",
    "\n",
    "    #He/She is in the main matrix\n",
    "    if node[1] == 0:\n",
    "        for person in range(len(tu_list)):\n",
    "            if tu_list[person][1][1] == 0:\n",
    "                NU.append(tu_list[person[1]])\n",
    "                \n",
    "    \n",
    "    #He/She is in the Shoping Centers\n",
    "    else:\n",
    "        wh = node[1]\n",
    "        for person in range(len(tu_list)):\n",
    "            if tu_list[person][1][1] == wh:\n",
    "                NU.append((np.random.randint(lsc[wh-1]),np.random.randint(lsc[wh-1])))\n",
    "                \n",
    "    \n",
    "    \n",
    "    \n",
    "    \n",
    "    return(list(NU+NS))"
   ]
  },
  {
   "cell_type": "markdown",
   "metadata": {},
   "source": [
    "________"
   ]
  },
  {
   "cell_type": "markdown",
   "metadata": {},
   "source": [
    "<div dir=rtl>\n",
    "   زمان وقوع اولین مریضی و اینکه کدام فرد را تولید می‌کنیم، در صورتی که زمان قبل از بهبود فردی دیگر رخ دهد، تابع اصلی آن را اجرا می کنیم.\n",
    "    در این تابع بر خلاف خلاصه پروژه μ\n",
    "    به عنوان میانگین ( و نه نرخ)\n",
    "    متغیر پواسون فرض شده است.\n",
    "    در صورت نیاز\n",
    "    MU\n",
    "    را به \n",
    "    1/MU\n",
    "    تغییر دهید.\n",
    "    در صورت صفر بودن MU\n",
    "    در این شرایط هم از شرط خطی‌ای استفاده شده که از ارور تقسیم بر صفر جلوگیری شود.\n",
    "    \n",
    "</div>"
   ]
  },
  {
   "cell_type": "code",
   "execution_count": 20,
   "metadata": {},
   "outputs": [],
   "source": [
    "#return time and index of person who get sick\n",
    "\n",
    "def NewCase_occur():\n",
    "    \n",
    "    fall_ill_chance = []\n",
    "    for every_person in range(len(society)):\n",
    "        \n",
    "        #toye on ghesmati ke khob mishe or dovom lazem nist\n",
    "        if (society[every_person] == 'healthy'): #or (society[every_person] == 'recoverd'):\n",
    "            \n",
    "            #compute rate of Falling ill\n",
    "            MU = f_1(N[every_person], NS(N[every_person]))\n",
    "            \n",
    "            \n",
    "            \n",
    "            fall_ill_chance.append(np.random.exponential(1/MU) if MU else float('inf'))\n",
    "\n",
    "        #sick or dead or recoverd\n",
    "        else:\n",
    "            fall_ill_chance.append(float('inf'))\n",
    "\n",
    "    return(min(fall_ill_chance),fall_ill_chance.index(min(fall_ill_chance)))\n"
   ]
  },
  {
   "cell_type": "code",
   "execution_count": 21,
   "metadata": {},
   "outputs": [
    {
     "name": "stdout",
     "output_type": "stream",
     "text": [
      "inf\n"
     ]
    }
   ],
   "source": [
    "#how the inline if work\n",
    "print(np.random.exponential(1/0) if 0 else float('inf'))"
   ]
  },
  {
   "cell_type": "code",
   "execution_count": 22,
   "metadata": {},
   "outputs": [],
   "source": [
    "def NewCase(tt, index):\n",
    "    global t\n",
    "    global ns\n",
    "    global nh\n",
    "    \n",
    "    t += tt\n",
    "    ns += 1\n",
    "    nh -= 1\n",
    "    \n",
    "    society[index] = 'sick'\n",
    "    health[index] = 0"
   ]
  },
  {
   "cell_type": "markdown",
   "metadata": {},
   "source": [
    "___________"
   ]
  },
  {
   "cell_type": "markdown",
   "metadata": {},
   "source": [
    "<div dir=rtl>\n",
    "    اتفاق دوم هم همانند اول ایجاد می‌کنیم، در صورتی که زمان رخداد کمتر از اتفاق اول باشد،\n",
    "    تابع اصلی اتفاق اول را اجرا می‌کنیم.\n",
    "    با توجه به شرط سوال اول که امکان مریض شدن  دوباره افراد ممکن/ناممکن است.\n",
    "    تابع اصلی اتفاق دوم را به دو صورت نوشته شده است. در صورت تمایل از هرکدام می‌شود، استفاده کرد.\n",
    "    \n",
    "</div>"
   ]
  },
  {
   "cell_type": "code",
   "execution_count": 23,
   "metadata": {},
   "outputs": [],
   "source": [
    "#getting better or dead\n",
    "def tr_occur():\n",
    "    \n",
    "    v = []\n",
    "    for ill in range(len(society)):\n",
    "        if society[ill] == 'sick':\n",
    "            v.append(np.random.uniform(ar,br))\n",
    "\n",
    "        else:\n",
    "            v.append(float('inf'))\n",
    "            \n",
    "    return(min(v),v.index(min(v)))"
   ]
  },
  {
   "cell_type": "code",
   "execution_count": 24,
   "metadata": {},
   "outputs": [],
   "source": [
    "def tr_a(tt,index):\n",
    "    global nd\n",
    "    \n",
    "    global nh\n",
    "    global nr\n",
    "    global nu\n",
    "\n",
    "    global ns\n",
    "    \n",
    "    global t\n",
    "    \n",
    "    t += tt\n",
    "    \n",
    "    if random.random() < pr:\n",
    "        \n",
    "        nh += 1\n",
    "        nr += 1\n",
    "        nu += 1\n",
    "        ns -= 1\n",
    "        \n",
    "        tu_list.append( ((t+(np.random.uniform(0.1,1))),N[index]) )\n",
    "\n",
    "        society[index] = 'recoverd'\n",
    "        recoverd[index] = 1\n",
    "    else:\n",
    "        \n",
    "        nd += 1\n",
    "        ns -= 1\n",
    "        society[index] = 'dead'\n",
    "        "
   ]
  },
  {
   "cell_type": "code",
   "execution_count": 25,
   "metadata": {},
   "outputs": [],
   "source": [
    "def tr(tt,index):\n",
    "    \n",
    "    global nd\n",
    "    global nh\n",
    "    global nr\n",
    "    global nu\n",
    "    global ns\n",
    "    global t\n",
    "    \n",
    "    t += tt\n",
    "    \n",
    "    if random.random() < pr:\n",
    "        \n",
    "        nh += 1\n",
    "        nr += 1\n",
    "        nu += 1\n",
    "        ns -= 1\n",
    "        \n",
    "        tu_list.append( ((t+(np.random.uniform(0.1,1))),N[index]) )\n",
    "\n",
    "        society[index] = 'healthy'\n",
    "        recoverd[index] = 1\n",
    "    else:\n",
    "        \n",
    "        nd += 1\n",
    "        ns -= 1\n",
    "        society[index] = 'dead'"
   ]
  },
  {
   "cell_type": "markdown",
   "metadata": {},
   "source": [
    "________"
   ]
  },
  {
   "cell_type": "code",
   "execution_count": 26,
   "metadata": {},
   "outputs": [
    {
     "data": {
      "text/plain": [
       "58"
      ]
     },
     "execution_count": 26,
     "metadata": {},
     "output_type": "execute_result"
    }
   ],
   "source": [
    "fileName = NAME +'number: {}'.format(number_of_shopping_center) +'-n:{},ni:{},mu:{},ar:{},br:{},pr:{}'.format(n,ni,mu,ar,br,pr)\n",
    "f = open('{}.csv'.format(fileName), 'w')\n",
    "f.write('Event,Time,Healthy People,Ill People,Recoverd people,RIP,\\n')"
   ]
  },
  {
   "cell_type": "markdown",
   "metadata": {},
   "source": [
    "______________"
   ]
  },
  {
   "cell_type": "code",
   "execution_count": 27,
   "metadata": {},
   "outputs": [],
   "source": [
    "while (t < T):\n",
    "    \n",
    " \n",
    "    \n",
    "    #if Somebody want come back\n",
    "    q = back_shop()\n",
    "    people_in_shopping_center = people_in_shopping_center[q:]\n",
    "    \n",
    "    #check if one or more convalescence time have been over\n",
    "    tu_list.sort()\n",
    "    if (len(tu_list) > 0):\n",
    "        if (tu_list[0][0] <= t):\n",
    "            count = 0\n",
    "            for i in range(len(tu_list)):\n",
    "                if tu_list[i][0] <= t:\n",
    "                    count += 1\n",
    "            nu -= count\n",
    "            tu_list = tu_list[count:]\n",
    "            \n",
    "\n",
    "    X = NewCase_occur()\n",
    "    Y = tr_occur()\n",
    "    \n",
    "    \n",
    "    go_shop(t,X[0],Y[0])\n",
    "    \n",
    "    #Check if both are inf\n",
    "    if X[0] == Y[0] == float('inf'):\n",
    "        break\n",
    "        \n",
    "    if (X[0] <= Y[0]):\n",
    "        NewCase(X[0],X[1])\n",
    "        f.write('[sick],{},{},{},{},{}, \\n'.format(t,nh,ns,int(sum(recoverd)),nd))\n",
    "        \n",
    "    if (Y[0] < X[0]):\n",
    "        tr(Y[0], Y[1])\n",
    "        f.write('[heal/dead],{},{},{},{},{}, \\n'.format(t,nh,ns,int(sum(recoverd)),nd))\n",
    "        \n",
    "\n"
   ]
  },
  {
   "cell_type": "code",
   "execution_count": 28,
   "metadata": {},
   "outputs": [
    {
     "data": {
      "text/plain": [
       "60.00571115986803"
      ]
     },
     "execution_count": 28,
     "metadata": {},
     "output_type": "execute_result"
    }
   ],
   "source": [
    "t"
   ]
  },
  {
   "cell_type": "code",
   "execution_count": 29,
   "metadata": {},
   "outputs": [
    {
     "data": {
      "text/plain": [
       "1000"
      ]
     },
     "execution_count": 29,
     "metadata": {},
     "output_type": "execute_result"
    }
   ],
   "source": [
    "nh + nd + ns"
   ]
  },
  {
   "cell_type": "code",
   "execution_count": 30,
   "metadata": {},
   "outputs": [
    {
     "data": {
      "text/plain": [
       "(875, 948, 98, 27)"
      ]
     },
     "execution_count": 30,
     "metadata": {},
     "output_type": "execute_result"
    }
   ],
   "source": [
    "nh,nr,nd,ns"
   ]
  },
  {
   "cell_type": "code",
   "execution_count": 31,
   "metadata": {},
   "outputs": [
    {
     "data": {
      "image/png": "[encoded data removed]",
      "text/plain": [
       "<Figure size 432x288 with 1 Axes>"
      ]
     },
     "metadata": {
      "needs_background": "light"
     },
     "output_type": "display_data"
    }
   ],
   "source": [
    "nepzeb.plotter('{}.csv'.format(fileName))"
   ]
  }
 ],
 "metadata": {
  "kernelspec": {
   "display_name": "Python 3",
   "language": "python",
   "name": "python3"
  },
  "language_info": {
   "codemirror_mode": {
    "name": "ipython",
    "version": 3
   },
   "file_extension": ".py",
   "mimetype": "text/x-python",
   "name": "python",
   "nbconvert_exporter": "python",
   "pygments_lexer": "ipython3",
   "version": "3.8.2"
  }
 },
 "nbformat": 4,
 "nbformat_minor": 4
}
