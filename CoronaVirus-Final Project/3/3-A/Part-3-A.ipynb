{
 "cells": [
  {
   "cell_type": "code",
   "execution_count": 1,
   "metadata": {},
   "outputs": [],
   "source": [
    "NAME = 'Part-3-A'"
   ]
  },
  {
   "cell_type": "markdown",
   "metadata": {},
   "source": [
    "____________"
   ]
  },
  {
   "cell_type": "code",
   "execution_count": 2,
   "metadata": {},
   "outputs": [],
   "source": [
    "import numpy as np\n",
    "import random\n",
    "from math import sqrt\n",
    "import nepzeb"
   ]
  },
  {
   "cell_type": "code",
   "execution_count": 3,
   "metadata": {},
   "outputs": [],
   "source": [
    "n = 1000\n",
    "\n",
    "mu = 4 #Rate\n",
    "\n",
    "t = 0\n",
    "\n",
    "ni = n//2\n",
    "\n",
    "T = 30 \n",
    "\n",
    "ar = sorted(np.random.exponential(1/mu,10000))[2000]\n",
    "br = sorted(np.random.exponential(1/mu,10000))[8000]\n",
    "\n",
    "pr = 0.9\n",
    "\n",
    "#matrix variable\n",
    "l = 1000\n",
    "c = 4\n",
    "\n",
    "ns = ni\n",
    "nh = n - ns\n",
    "nd = 0\n",
    "nu = 0\n",
    "nr = 0\n",
    "nu = 0"
   ]
  },
  {
   "cell_type": "markdown",
   "metadata": {},
   "source": [
    "____________"
   ]
  },
  {
   "cell_type": "markdown",
   "metadata": {},
   "source": [
    "<div dir=rtl>\n",
    "    هر کدام از افراد را به تصادف در نقطه‌ای ثابت در ماتریس جا می‌دهیم.\n",
    "    موقعیت هر کس را به صورت\n",
    "    (x,y)\n",
    "    تعریف می‌کنیم.\n",
    "   \n",
    "</div>"
   ]
  },
  {
   "cell_type": "code",
   "execution_count": 4,
   "metadata": {},
   "outputs": [],
   "source": [
    "def random_per():\n",
    "    N = []\n",
    "    while len(N) < n:\n",
    "        zz = (random.randint(1,l), random.randint(1,l))\n",
    "        if not(zz) in N:\n",
    "            N.append(zz)\n",
    "    return(N)\n",
    "N = random_per()"
   ]
  },
  {
   "cell_type": "code",
   "execution_count": 5,
   "metadata": {},
   "outputs": [
    {
     "data": {
      "text/plain": [
       "[(725, 490), (374, 270), (97, 725), (68, 616), (676, 947)]"
      ]
     },
     "execution_count": 5,
     "metadata": {},
     "output_type": "execute_result"
    }
   ],
   "source": [
    "N[:5]"
   ]
  },
  {
   "cell_type": "markdown",
   "metadata": {},
   "source": [
    "_______________"
   ]
  },
  {
   "cell_type": "markdown",
   "metadata": {},
   "source": [
    "<div dir=rtl>\n",
    "    توابع زیر توابع معرفی شده در مثال سه هستند که به صورت عمومی برای نقطه داده شده و لیستی که به آن داده می‌شود با کسانی که فاصله اقلیدسی کمتر مساوی c\n",
    "    دارند، نرخ را محاسبه می‌کند.\n",
    "    لازم به ذکر است نرم‌های دیگر مانند فاصله منهتن هم مناسب مدل هستند.\n",
    "</div>"
   ]
  },
  {
   "cell_type": "code",
   "execution_count": 6,
   "metadata": {},
   "outputs": [],
   "source": [
    "def f_1(node,X):\n",
    "    u = 0\n",
    "    for each_cell in range(len(X)):\n",
    "        (a, b) = X[each_cell]\n",
    "        dis = sqrt((node[0] - a)** 2 + (node[1] -b)**2)\n",
    "        if  dis <= c:\n",
    "            #f(i,j)= mu * \\delta_{d(i,j)} \n",
    "            u += mu\n",
    "    return(u)\n",
    "    "
   ]
  },
  {
   "cell_type": "code",
   "execution_count": 7,
   "metadata": {},
   "outputs": [],
   "source": [
    "def f_2(node,X):\n",
    "    u = 0\n",
    "    for each_cell in range(len(X)):\n",
    "        (a, b) = X[each_cell]\n",
    "        dis = sqrt((node[0] - a)** 2 + (node[1] -b)**2)\n",
    "        if  dis <= c:\n",
    "            #f(i,j)= mu /(1 + d(i,j)) * \\delta_{d(i,j)} \n",
    "            u += mu / 1+ dis\n",
    "    return(u)"
   ]
  },
  {
   "cell_type": "markdown",
   "metadata": {},
   "source": [
    "_____"
   ]
  },
  {
   "cell_type": "markdown",
   "metadata": {},
   "source": [
    "\n",
    "<div dir=rtl>\n",
    "    لیستی به تعداد نفرات جامعه ایجاد می‌کنیم که به تصادف به تعداد افراد سالم و مریض وضعیت آن‌ها مشخص شده است.\n",
    "</div>\n"
   ]
  },
  {
   "cell_type": "code",
   "execution_count": 8,
   "metadata": {},
   "outputs": [],
   "source": [
    "society = ['sick' for i in range(ns)] + ['healthy' for j in range(nh)]\n",
    "random.shuffle(society)"
   ]
  },
  {
   "cell_type": "markdown",
   "metadata": {},
   "source": [
    "\n",
    "<div dir=rtl>\n",
    "    لیستی به تعداد افراد جامعه صفر تولید می‌کنیم، اگر فردی یکبار بهبود پیدا کرد خانه متعلق به اون به ۱ تغییر می‌کند.\n",
    "</div>\n"
   ]
  },
  {
   "cell_type": "code",
   "execution_count": 9,
   "metadata": {},
   "outputs": [],
   "source": [
    "recoverd = np.zeros(n)"
   ]
  },
  {
   "cell_type": "markdown",
   "metadata": {},
   "source": [
    "\n",
    "<div dir=rtl>\n",
    "    لیست خالی برای نگهداری زمان پایان هر فردی که در نقاهت به سر می‌برد ایجاد می‌کنیم.\n",
    "</div>\n"
   ]
  },
  {
   "cell_type": "code",
   "execution_count": 10,
   "metadata": {},
   "outputs": [],
   "source": [
    "tu_list = []"
   ]
  },
  {
   "cell_type": "markdown",
   "metadata": {},
   "source": [
    "__________"
   ]
  },
  {
   "cell_type": "markdown",
   "metadata": {},
   "source": [
    "<div dir=rtl>\n",
    "    دو تابع اصلی در این شبیه سازی که فرآیند اصلی را انجام می‌دهند\n",
    "    .\n",
    "    با توجه به سوال سه که سیگما را برای افراد مریض و در دوران نقاهت تعریف می‌کند.\n",
    "    این تابع برای هر فرد با توجه به موقعیتی که دارد، یعنی در کدام مرکز خرید و یا کدام محل کار و یا در ماتریس اصلی لیستی از همسایه‌های\n",
    "    مریض و یا در دوران نقاهت می‌دهد\n",
    "</div>"
   ]
  },
  {
   "cell_type": "code",
   "execution_count": 11,
   "metadata": {},
   "outputs": [],
   "source": [
    "def NS():\n",
    "    \n",
    "    NS = []\n",
    "    \n",
    "    for each_person in range(n):\n",
    "        if society[each_person] == 'sick':\n",
    "            NS.append(N[each_person])\n",
    "        \n",
    "            \n",
    "            \n",
    "    return(list(NS))"
   ]
  },
  {
   "cell_type": "markdown",
   "metadata": {},
   "source": [
    "________"
   ]
  },
  {
   "cell_type": "markdown",
   "metadata": {},
   "source": [
    "<div dir=rtl>\n",
    "   زمان وقوع اولین مریضی و اینکه کدام فرد را تولید می‌کنیم، در صورتی که زمان قبل از بهبود فردی دیگر رخ دهد، تابع اصلی آن را اجرا می کنیم.\n",
    "    در اینجا MU از\n",
    "    جنس میانگین است،\n",
    "    ولی با عکس آن یعنی نرخ زمان‌ها را تولید می‌کنیم.\n",
    "    \n",
    "</div>\n"
   ]
  },
  {
   "cell_type": "code",
   "execution_count": 12,
   "metadata": {},
   "outputs": [],
   "source": [
    "#return time and index of person who get sick\n",
    "\n",
    "def NewCase_occur():\n",
    "    \n",
    "    fall_ill_chance = []\n",
    "    for every_person in range(len(society)):\n",
    "        \n",
    "        \n",
    "        if (society[every_person] == 'healthy'):\n",
    "            \n",
    "            #compute rate of Falling ill\n",
    "            MU = f_1(N[every_person], NS())\n",
    "            \n",
    "            \n",
    "            \n",
    "            fall_ill_chance.append(np.random.exponential(1/MU) if MU else float('inf'))\n",
    "\n",
    "        #sick or dead or recoverd\n",
    "        else:\n",
    "            fall_ill_chance.append(float('inf'))\n",
    "\n",
    "    return(min(fall_ill_chance),fall_ill_chance.index(min(fall_ill_chance)))\n"
   ]
  },
  {
   "cell_type": "code",
   "execution_count": 13,
   "metadata": {},
   "outputs": [
    {
     "name": "stdout",
     "output_type": "stream",
     "text": [
      "inf\n"
     ]
    }
   ],
   "source": [
    "#how the \"inline if\" work\n",
    "print(np.random.exponential(1/0) if 0 else float('inf'))"
   ]
  },
  {
   "cell_type": "code",
   "execution_count": 14,
   "metadata": {},
   "outputs": [],
   "source": [
    "def NewCase(tt, index):\n",
    "    global t\n",
    "    global ns\n",
    "    global nh\n",
    "    \n",
    "    t += tt\n",
    "    ns += 1\n",
    "    nh -= 1\n",
    "    \n",
    "    society[index] = 'sick'\n"
   ]
  },
  {
   "cell_type": "markdown",
   "metadata": {},
   "source": [
    "___________"
   ]
  },
  {
   "cell_type": "markdown",
   "metadata": {},
   "source": [
    "\n",
    "<div dir=rtl>\n",
    "    اتفاق دوم هم همانند اول ایجاد می‌کنیم، در صورتی که زمان رخداد کمتر از اتفاق اول باشد،\n",
    "    تابع اصلی اتفاق اول را اجرا می‌کنیم.\n",
    "    با توجه به شرط سوال اول که امکان مریض شدن  دوباره افراد ممکن/ناممکن است.\n",
    "    تابع اصلی اتفاق دوم را به دو صورت نوشته شده است. در صورت تمایل از هرکدام می‌شود، استفاده کرد.\n",
    "    \n",
    "</div>"
   ]
  },
  {
   "cell_type": "code",
   "execution_count": 15,
   "metadata": {},
   "outputs": [],
   "source": [
    "#getting better or dead\n",
    "def tr_occur():\n",
    "    \n",
    "    v = []\n",
    "    for ill in range(len(society)):\n",
    "        if society[ill] == 'sick':\n",
    "            v.append(np.random.uniform(ar,br))\n",
    "\n",
    "        else:\n",
    "            v.append(float('inf'))\n",
    "    return(min(v),v.index(min(v)))"
   ]
  },
  {
   "cell_type": "code",
   "execution_count": 16,
   "metadata": {},
   "outputs": [],
   "source": [
    "def tr_a(tt,index):\n",
    "    \n",
    "    global nd\n",
    "    global nh\n",
    "    global nr\n",
    "    global nu\n",
    "    global ns\n",
    "    global t\n",
    "    \n",
    "    t += tt\n",
    "    \n",
    "    if random.random() < pr:\n",
    "\n",
    "        nh += 1\n",
    "        nr += 1\n",
    "        nu += 1\n",
    "        ns -= 1\n",
    "        \n",
    "        tu_list.append( ((t+(np.random.uniform(0.1,1))),N[index]) )\n",
    "\n",
    "        society[index] = 'recoverd'\n",
    "        recoverd[index] = 1\n",
    "    else:\n",
    "        \n",
    "        nd += 1\n",
    "        ns -= 1\n",
    "        society[index] = 'dead'"
   ]
  },
  {
   "cell_type": "code",
   "execution_count": 17,
   "metadata": {},
   "outputs": [],
   "source": [
    "def tr(tt,index):\n",
    "    \n",
    "    global nd\n",
    "    global nh\n",
    "    global nr\n",
    "    global nu\n",
    "    global ns\n",
    "    global t\n",
    "    \n",
    "    t += tt\n",
    "    \n",
    "    if random.random() < pr:\n",
    "        \n",
    "        nh += 1\n",
    "        nr += 1\n",
    "        nu += 1\n",
    "        ns -= 1\n",
    "        \n",
    "        tu_list.append( ((t+(np.random.uniform(0.1,1))),N[index]) )\n",
    "\n",
    "        society[index] = 'healthy'\n",
    "        recoverd[index] = 1\n",
    "    else:\n",
    "        \n",
    "        nd += 1\n",
    "        ns -= 1\n",
    "        society[index] = 'dead'"
   ]
  },
  {
   "cell_type": "markdown",
   "metadata": {},
   "source": [
    "________"
   ]
  },
  {
   "cell_type": "code",
   "execution_count": 18,
   "metadata": {},
   "outputs": [],
   "source": [
    "fileName = NAME + '-n:{},ni:{},mu:{},ar:{},br:{},pr:{}'.format(n,ni,mu,ar,br,pr)"
   ]
  },
  {
   "cell_type": "code",
   "execution_count": 19,
   "metadata": {},
   "outputs": [
    {
     "data": {
      "text/plain": [
       "58"
      ]
     },
     "execution_count": 19,
     "metadata": {},
     "output_type": "execute_result"
    }
   ],
   "source": [
    "f = open('{}.csv'.format(fileName), 'w')\n",
    "f.write('Event,Time,Healthy People,Ill People,Recoverd people,RIP,\\n')"
   ]
  },
  {
   "cell_type": "markdown",
   "metadata": {},
   "source": [
    "______________"
   ]
  },
  {
   "cell_type": "code",
   "execution_count": 20,
   "metadata": {},
   "outputs": [],
   "source": [
    "while (t < T):\n",
    "    \n",
    "    \n",
    "    #check if one or more people's convalescence time have been over\n",
    "    tu_list.sort()\n",
    "    if (len(tu_list) > 0):\n",
    "        if (tu_list[0][0] <= t):\n",
    "            count = 0\n",
    "            for i in range(len(tu_list)):\n",
    "                if tu_list[i][0] <= t:\n",
    "                    count += 1\n",
    "            nu -= count\n",
    "            tu_list = tu_list[count:]\n",
    "            \n",
    "\n",
    "    X = NewCase_occur()\n",
    "    Y = tr_occur()\n",
    "    \n",
    "    #check if both are inf then Break\n",
    "    if X[0] == Y[0] == float('inf'):\n",
    "        break\n",
    "    \n",
    "    \n",
    "    \n",
    "    if X[0] <= Y[0]:\n",
    "        NewCase(X[0],X[1])\n",
    "        f.write('[sick],{},{},{},{},{}, \\n'.format(t,nh,ns,int(sum(recoverd)),nd))\n",
    "        \n",
    "    if Y[0] < X[0]:\n",
    "        tr(Y[0], Y[1])\n",
    "        f.write('[heal/dead],{},{},{},{},{}, \\n'.format(t,nh,ns,int(sum(recoverd)),nd))\n",
    "    \n",
    "f.close()"
   ]
  },
  {
   "cell_type": "code",
   "execution_count": 21,
   "metadata": {},
   "outputs": [
    {
     "data": {
      "text/plain": [
       "30.730047912203002"
      ]
     },
     "execution_count": 21,
     "metadata": {},
     "output_type": "execute_result"
    }
   ],
   "source": [
    "t"
   ]
  },
  {
   "cell_type": "code",
   "execution_count": 22,
   "metadata": {},
   "outputs": [
    {
     "data": {
      "text/plain": [
       "1000"
      ]
     },
     "execution_count": 22,
     "metadata": {},
     "output_type": "execute_result"
    }
   ],
   "source": [
    "nh + nd + ns"
   ]
  },
  {
   "cell_type": "code",
   "execution_count": 23,
   "metadata": {},
   "outputs": [
    {
     "data": {
      "text/plain": [
       "(13, 2, 985)"
      ]
     },
     "execution_count": 23,
     "metadata": {},
     "output_type": "execute_result"
    }
   ],
   "source": [
    "nh,nd,ns"
   ]
  },
  {
   "cell_type": "code",
   "execution_count": 24,
   "metadata": {},
   "outputs": [
    {
     "data": {
      "image/png": "[encoded data removed]",
      "text/plain": [
       "<Figure size 432x288 with 1 Axes>"
      ]
     },
     "metadata": {
      "needs_background": "light"
     },
     "output_type": "display_data"
    }
   ],
   "source": [
    "nepzeb.plotter('{}.csv'.format(fileName))"
   ]
  },
  {
   "cell_type": "code",
   "execution_count": null,
   "metadata": {},
   "outputs": [],
   "source": []
  }
 ],
 "metadata": {
  "kernelspec": {
   "display_name": "Python 3",
   "language": "python",
   "name": "python3"
  },
  "language_info": {
   "codemirror_mode": {
    "name": "ipython",
    "version": 3
   },
   "file_extension": ".py",
   "mimetype": "text/x-python",
   "name": "python",
   "nbconvert_exporter": "python",
   "pygments_lexer": "ipython3",
   "version": "3.8.2"
  }
 },
 "nbformat": 4,
 "nbformat_minor": 4
}
