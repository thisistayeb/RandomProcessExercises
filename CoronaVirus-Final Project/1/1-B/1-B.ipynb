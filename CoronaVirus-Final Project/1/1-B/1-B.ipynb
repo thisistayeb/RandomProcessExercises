{
 "cells": [
  {
   "cell_type": "code",
   "execution_count": 1,
   "metadata": {},
   "outputs": [],
   "source": [
    "NAME = '1-B'"
   ]
  },
  {
   "cell_type": "markdown",
   "metadata": {},
   "source": [
    "____"
   ]
  },
  {
   "cell_type": "markdown",
   "metadata": {},
   "source": [
    "\n",
    "<div dir=rtl>\n",
    "    ۱. ب)\n",
    "در صورتی که فرد بهبود یافته بعد از بهبود مانند یک فردی که به بیماری مبتلا نشده است باشد، نپزب را رسم کنید.\n",
    "</div>\n"
   ]
  },
  {
   "cell_type": "markdown",
   "metadata": {},
   "source": [
    "_______________"
   ]
  },
  {
   "cell_type": "code",
   "execution_count": 2,
   "metadata": {},
   "outputs": [],
   "source": [
    "import numpy as np\n",
    "import random\n",
    "from math import sqrt\n",
    "import nepzeb"
   ]
  },
  {
   "cell_type": "code",
   "execution_count": 3,
   "metadata": {},
   "outputs": [],
   "source": [
    "n = 1000\n",
    "\n",
    "mu = 1/4 #mean not rate\n",
    "\n",
    "t = 0\n",
    "\n",
    "ni = n//2\n",
    "\n",
    "T = 30\n",
    "\n",
    "ar = sorted(np.random.exponential(mu,10000))[2000]\n",
    "br = sorted(np.random.exponential(mu,10000))[8000]\n",
    "\n",
    "pr = 0.9\n",
    "\n",
    "\n",
    "ns = ni\n",
    "nh = n - ns\n",
    "nd = 0\n",
    "nu = 0\n",
    "nr = 0\n",
    "nu = 0"
   ]
  },
  {
   "cell_type": "code",
   "execution_count": 4,
   "metadata": {},
   "outputs": [
    {
     "data": {
      "text/plain": [
       "(0.055019069318751015, 0.3983002365276195)"
      ]
     },
     "execution_count": 4,
     "metadata": {},
     "output_type": "execute_result"
    }
   ],
   "source": [
    "ar,br"
   ]
  },
  {
   "cell_type": "code",
   "execution_count": null,
   "metadata": {},
   "outputs": [],
   "source": []
  },
  {
   "cell_type": "markdown",
   "metadata": {},
   "source": [
    "__________"
   ]
  },
  {
   "cell_type": "markdown",
   "metadata": {},
   "source": [
    "\n",
    "<div dir=rtl>\n",
    "    لیستی به تعداد نفرات جامعه ایجاد می‌کنیم که به تصادف افراد سالم و مریض وضعیت آن‌ها مشخص شده است.\n",
    "</div>\n"
   ]
  },
  {
   "cell_type": "code",
   "execution_count": 5,
   "metadata": {},
   "outputs": [],
   "source": [
    "society = ['sick' for i in range(ns)] + ['healthy' for j in range(nh)]\n",
    "random.shuffle(society)"
   ]
  },
  {
   "cell_type": "markdown",
   "metadata": {},
   "source": [
    "\n",
    "<div dir=rtl>\n",
    "    لیست خالی برای نگهداری زمان پایان هر فردی که در نقاهت به سر می‌برد ایجاد می‌کنیم.\n",
    "</div>\n"
   ]
  },
  {
   "cell_type": "code",
   "execution_count": 6,
   "metadata": {},
   "outputs": [],
   "source": [
    "tu_list = []"
   ]
  },
  {
   "cell_type": "markdown",
   "metadata": {},
   "source": [
    "\n",
    "<div dir=rtl>\n",
    "    لیستی به تعداد افراد جامعه صفر تولید می‌کنیم، اگر فردی یکبار بهبود پیدا کرد خانه متعلق به اون به ۱ تغییر می‌کند.\n",
    "</div>\n"
   ]
  },
  {
   "cell_type": "code",
   "execution_count": 7,
   "metadata": {},
   "outputs": [],
   "source": [
    "recoverd = np.zeros(n)"
   ]
  },
  {
   "cell_type": "markdown",
   "metadata": {},
   "source": [
    "______"
   ]
  },
  {
   "cell_type": "markdown",
   "metadata": {},
   "source": [
    "\n",
    "<div dir=rtl>\n",
    "    توابعی تعریف می‌کنیم که خروجی آن زمان اولین فرد سالمی که مریض می‌شود و شماره آن درون لیست به این معنی که چه کسی و چه زمانی مریض می شود برای ما مهم است.\n",
    "</div>\n"
   ]
  },
  {
   "cell_type": "code",
   "execution_count": 8,
   "metadata": {},
   "outputs": [],
   "source": [
    "#return time and index of person who get sick\n",
    "\n",
    "def NewCase_occur():\n",
    "    \n",
    "    fall_ill_chance = []\n",
    "    for every_person in range(len(society)):\n",
    "        \n",
    "        \n",
    "        if (society[every_person] == 'healthy'):\n",
    "                   \n",
    "            fall_ill_chance.append(np.random.exponential(mu))\n",
    "\n",
    "        #sick or dead\n",
    "        else:\n",
    "            fall_ill_chance.append(float('inf'))\n",
    "\n",
    "    return(min(fall_ill_chance),fall_ill_chance.index(min(fall_ill_chance)))\n"
   ]
  },
  {
   "cell_type": "code",
   "execution_count": 9,
   "metadata": {},
   "outputs": [],
   "source": [
    "def NewCase(tt, index):\n",
    "    global t\n",
    "    global ns\n",
    "    global nh\n",
    "    \n",
    "    t += tt\n",
    "    ns += 1\n",
    "    nh -= 1\n",
    "    \n",
    "    society[index] = 'sick'\n"
   ]
  },
  {
   "cell_type": "markdown",
   "metadata": {},
   "source": [
    "_______"
   ]
  },
  {
   "cell_type": "markdown",
   "metadata": {},
   "source": [
    "\n",
    "<div dir=rtl>\n",
    "    اتفاق دومی که در برای افراد ممکن است بی افتد بعد از زمانی بهبود یابند و یا فوت کنند، این بار هم مانند توابع بالا عمل می‌کنیم.\n",
    "</div>\n"
   ]
  },
  {
   "cell_type": "code",
   "execution_count": 10,
   "metadata": {},
   "outputs": [],
   "source": [
    "def tr_occur():\n",
    "    \n",
    "    v = []\n",
    "    for ill in range(len(society)):\n",
    "        if society[ill] == 'sick':\n",
    "            v.append(np.random.uniform(ar,br))\n",
    "\n",
    "        else:\n",
    "            v.append(float('inf'))\n",
    "    return(min(v),v.index(min(v)))"
   ]
  },
  {
   "cell_type": "code",
   "execution_count": 11,
   "metadata": {},
   "outputs": [],
   "source": [
    "def tr(tt,index):\n",
    "    \n",
    "    global nd\n",
    "    global nh\n",
    "    global nr\n",
    "    global nu\n",
    "    global ns\n",
    "    global t\n",
    "    \n",
    "    t += tt\n",
    "    \n",
    "    if random.random() < pr:\n",
    "        \n",
    "        nh += 1\n",
    "        nr += 1\n",
    "        nu += 1\n",
    "        ns -= 1\n",
    "        \n",
    "        tu_list.append( (t+(np.random.uniform(0.1,1))) )\n",
    "\n",
    "        society[index] = 'healthy'\n",
    "        recoverd[index] = 1\n",
    "        \n",
    "    else:\n",
    "        \n",
    "        nd += 1\n",
    "        ns -= 1\n",
    "        society[index] = 'dead'"
   ]
  },
  {
   "cell_type": "markdown",
   "metadata": {},
   "source": [
    "____"
   ]
  },
  {
   "cell_type": "code",
   "execution_count": 13,
   "metadata": {},
   "outputs": [],
   "source": [
    "fileName = NAME + '-n:{},ni:{},mu:{},ar:{},br:{},pr:{}'.format(n,ni,mu,ar,br,pr)"
   ]
  },
  {
   "cell_type": "code",
   "execution_count": 14,
   "metadata": {},
   "outputs": [
    {
     "data": {
      "text/plain": [
       "58"
      ]
     },
     "execution_count": 14,
     "metadata": {},
     "output_type": "execute_result"
    }
   ],
   "source": [
    "f = open('{}.csv'.format(fileName), 'w')\n",
    "f.write('Event,Time,Healthy People,Ill People,Recoverd people,RIP,\\n')"
   ]
  },
  {
   "cell_type": "markdown",
   "metadata": {},
   "source": [
    "_________"
   ]
  },
  {
   "cell_type": "code",
   "execution_count": 15,
   "metadata": {},
   "outputs": [],
   "source": [
    "while (t < T):\n",
    "    \n",
    "    \n",
    "    #check if one or more people's convalescence time have been over\n",
    "    tu_list.sort()\n",
    "    if (len(tu_list) > 0):\n",
    "        if (tu_list[0] <= t):\n",
    "            count = 0\n",
    "            for i in range(len(tu_list)):\n",
    "                if tu_list[i] <= t:\n",
    "                    count += 1\n",
    "            nu -= count\n",
    "            tu_list = tu_list[count:]\n",
    "            \n",
    "\n",
    "    X = NewCase_occur()\n",
    "    Y = tr_occur()\n",
    "    \n",
    "    \n",
    "    #check if both are inf then Break\n",
    "    if X[0] == Y[0] == float('inf'):\n",
    "        break\n",
    "    \n",
    "    if X[0] <= Y[0]:\n",
    "        NewCase(X[0],X[1])\n",
    "        f.write('[sick],{},{},{},{},{}, \\n'.format(t,nh,ns,int(sum(recoverd)),nd))\n",
    "        \n",
    "    if Y[0] < X[0]:\n",
    "        tr(Y[0], Y[1])\n",
    "        f.write('[heal/dead],{},{},{},{},{}, \\n'.format(t,nh,ns,int(sum(recoverd)),nd))\n",
    "    \n",
    "f.close()"
   ]
  },
  {
   "cell_type": "code",
   "execution_count": 16,
   "metadata": {},
   "outputs": [
    {
     "data": {
      "text/plain": [
       "30.029704281052076"
      ]
     },
     "execution_count": 16,
     "metadata": {},
     "output_type": "execute_result"
    }
   ],
   "source": [
    "t"
   ]
  },
  {
   "cell_type": "code",
   "execution_count": 17,
   "metadata": {},
   "outputs": [
    {
     "data": {
      "text/plain": [
       "(3, 31, 966)"
      ]
     },
     "execution_count": 17,
     "metadata": {},
     "output_type": "execute_result"
    }
   ],
   "source": [
    "nh, nd, ns"
   ]
  },
  {
   "cell_type": "code",
   "execution_count": 18,
   "metadata": {},
   "outputs": [
    {
     "data": {
      "image/png": "[encoded data removed]",
      "text/plain": [
       "<Figure size 432x288 with 1 Axes>"
      ]
     },
     "metadata": {
      "needs_background": "light"
     },
     "output_type": "display_data"
    }
   ],
   "source": [
    "nepzeb.plotter('{}.csv'.format(fileName))"
   ]
  },
  {
   "cell_type": "code",
   "execution_count": null,
   "metadata": {},
   "outputs": [],
   "source": []
  }
 ],
 "metadata": {
  "kernelspec": {
   "display_name": "Python 3",
   "language": "python",
   "name": "python3"
  },
  "language_info": {
   "codemirror_mode": {
    "name": "ipython",
    "version": 3
   },
   "file_extension": ".py",
   "mimetype": "text/x-python",
   "name": "python",
   "nbconvert_exporter": "python",
   "pygments_lexer": "ipython3",
   "version": "3.8.2"
  }
 },
 "nbformat": 4,
 "nbformat_minor": 4
}
